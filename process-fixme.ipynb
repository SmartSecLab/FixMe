{
 "cells": [
  {
   "cell_type": "markdown",
   "metadata": {},
   "source": [
    "# Processing extracted FixMe data"
   ]
  },
  {
   "cell_type": "code",
   "execution_count": 3,
   "metadata": {},
   "outputs": [],
   "source": [
    "from tabulate import tabulate\n",
    "from pathlib import Path\n",
    "import os\n",
    "import pandas as pd\n",
    "import glob\n",
    "import re\n",
    "import json\n",
    "import git\n",
    "import sqlite3\n",
    "from urllib.parse import urlparse\n",
    "from warnings import simplefilter\n",
    "\n",
    "simplefilter(action=\"ignore\", category=pd.errors.PerformanceWarning)"
   ]
  },
  {
   "cell_type": "code",
   "execution_count": 4,
   "metadata": {},
   "outputs": [
    {
     "data": {
      "text/plain": [
       "['CVE-2013-2127',\n",
       " 'CVE-2013-2873',\n",
       " 'CVE-2013-2035',\n",
       " 'CVE-2013-2023',\n",
       " 'CVE-2013-2832']"
      ]
     },
     "execution_count": 4,
     "metadata": {},
     "output_type": "execute_result"
    }
   ],
   "source": [
    "\n",
    "# load cve table from /Users/guru/research/FixMe/data/FixMe.db\n",
    "conn = sqlite3.connect('/Users/guru/research/FixMe/data/FixMe.db')\n",
    "df_cve = pd.read_sql_query(\"SELECT * FROM cve;\", conn)\n",
    "\n",
    "cveIds = list(df_cve.cveId)\n",
    "cveIds[0:5]"
   ]
  }
 ],
 "metadata": {
  "kernelspec": {
   "display_name": "fixme",
   "language": "python",
   "name": "python3"
  },
  "language_info": {
   "codemirror_mode": {
    "name": "ipython",
    "version": 3
   },
   "file_extension": ".py",
   "mimetype": "text/x-python",
   "name": "python",
   "nbconvert_exporter": "python",
   "pygments_lexer": "ipython3",
   "version": "3.10.0"
  }
 },
 "nbformat": 4,
 "nbformat_minor": 2
}
