{
 "cells": [
  {
   "cell_type": "markdown",
   "metadata": {},
   "source": [
    "# This script is used to find all the URLs from the CVE JSON files\n",
    "# Scanning CVEs for git-based commit URLs"
   ]
  },
  {
   "cell_type": "code",
   "execution_count": 158,
   "metadata": {},
   "outputs": [],
   "source": [
    "from tabulate import tabulate\n",
    "from pathlib import Path\n",
    "import os\n",
    "import pandas as pd\n",
    "import glob\n",
    "import re\n",
    "import json\n",
    "import git\n",
    "\n",
    "def map_rename(columns):\n",
    "    \"\"\"Create a renaming mapping dictionary\"\"\"\n",
    "    rename_mapping = {}\n",
    "    for key in columns.keys():\n",
    "        rename_mapping[key] = key.split(\".\")[-1]\n",
    "    return rename_mapping\n",
    "\n",
    "def find_json_files(directory):\n",
    "    \"\"\"Find all JSON files in the given directory (including subdirectories).\"\"\"\n",
    "    json_files = glob.glob(os.path.join(\n",
    "        directory, \"**/*.json\"), recursive=True)\n",
    "    return json_files"
   ]
  },
  {
   "cell_type": "code",
   "execution_count": 157,
   "metadata": {},
   "outputs": [
    {
     "name": "stdout",
     "output_type": "stream",
     "text": [
      "#JSON files: 25843\n",
      "#URLs: 2258\n"
     ]
    }
   ],
   "source": [
    "\n",
    "\n",
    "\n",
    "def find_commit_urls(urls):\n",
    "    \"\"\"collect all the URLs of they are commit hashes\"\"\"\n",
    "    commit_urls = [url for url in urls if \"commit\" in url]\n",
    "    return commit_urls\n",
    "\n",
    "\n",
    "def find_urls(json_files):\n",
    "    \"\"\"collect all the URLs from the CVE Json files\"\"\"\n",
    "    patch_links = {}\n",
    "    if json_files:\n",
    "        for json_file in json_files:\n",
    "            urls = []\n",
    "            if os.path.isfile(json_file):\n",
    "                with open(json_file, 'r') as f:\n",
    "                    urls = re.findall(r'\"url\": \"(.*?)\"', f.read())\n",
    "            if urls:\n",
    "                patch_links[json_file] = find_commit_urls(urls)\n",
    "    else:\n",
    "        print(\"No JSON file found in the directory.\")\n",
    "\n",
    "    patch_links = {k: v for k, v in patch_links.items() if v}\n",
    "    return patch_links\n",
    "\n",
    "if __name__ == \"__main__\":\n",
    "    cve_dir = \"/Users/guru/research/FixMe/data/cvelistV5/cves\"\n",
    "    json_files = find_json_files(cve_dir)\n",
    "    print(f\"#JSON files: {len(json_files)}\")\n",
    "    patch_links = find_urls(json_files)\n",
    "    print(f\"#URLs: {len(patch_links)}\")"
   ]
  },
  {
   "cell_type": "code",
   "execution_count": 13,
   "metadata": {},
   "outputs": [
    {
     "name": "stdout",
     "output_type": "stream",
     "text": [
      "{'cveId': 'CVE-2024-27319', 'assignerOrgId': '6f8de1f0-f67e-45a6-b68f-98777fdb759c', 'state': 'PUBLISHED', 'assignerShortName': 'HiddenLayer', 'dateReserved': '2024-02-23T16:59:23.010Z', 'datePublished': '2024-02-23T17:39:52.870Z', 'dateUpdated': '2024-02-23T17:39:52.870Z'}\n"
     ]
    },
    {
     "data": {
      "text/plain": [
       "{'id': 'CVE-2024-27319',\n",
       " 'dataVersion': '5.0',\n",
       " 'state': 'PUBLISHED',\n",
       " 'dateReserved': '2024-02-23T16:59:23.010Z',\n",
       " 'dateUpdated': '2024-02-23T17:39:52.870Z'}"
      ]
     },
     "execution_count": 13,
     "metadata": {},
     "output_type": "execute_result"
    }
   ],
   "source": [
    "\n",
    "# def json2df(json_file):\n",
    "#     \"\"\"Convert JSON data to a pandas DataFrame\"\"\"\n",
    "#     # Read JSON data from file\n",
    "#     df = pd.DataFrame()\n",
    "#     with open(json_file, \"r\") as f:\n",
    "#         cvedict = json.load(f)\n",
    "#         data = {}\n",
    "#         print(cvedict['cveMetadata'])\n",
    "\n",
    "#         id = cvedict['cveMetadata']['cveId']\n",
    "#         dataVersion = cvedict['dataVersion'] if  cvedict['dataVersion'] else None\n",
    "#         state = cvedict['cveMetadata']['state'] if cvedict['cveMetadata']['state'] else None\n",
    "#         dateReserved = cvedict['cveMetadata']['dateReserved'] if cvedict['cveMetadata']['dateReserved'] else None\n",
    "#         # datePublished = cvedict['cveMetadata']['datePublished'] if cvedict['cveMetadata']['datePublished'] else None\n",
    "#         dateUpdated = cvedict['cveMetadata']['dateUpdated'] if cvedict['cveMetadata']['dateUpdated'] else None\n",
    "#         # dateRejected = cvedict['cveMetadata']['dateRejected'] if cvedict['cveMetadata']['dateRejected'] else None\n",
    "#         # description = cvedict['containers']['cna']['descriptions'] if cvedict['containers']['cna']['descriptions'] else None\n",
    "#         if id:\n",
    "#             data = {\n",
    "#                 'id': id,\n",
    "#                 'dataVersion': dataVersion,\n",
    "#                 'state': state,\n",
    "#                 \"dateReserved\": dateReserved,\n",
    "#                 # \"datePublished\": datePublished,\n",
    "#                 \"dateUpdated\": dateUpdated,\n",
    "\n",
    "#             }\n",
    "#     # df = pd.DataFrame(data)\n",
    "#     return data, cvedict\n",
    "\n",
    "# cvefile = '/Users/guru/research/FixMe/data/cvelistV5/cves/2024/27xxx/CVE-2024-27319.json'\n",
    "# cve_json, cvedict = json2df(cvefile)\n",
    "# cve_json"
   ]
  },
  {
   "cell_type": "code",
   "execution_count": 140,
   "metadata": {},
   "outputs": [
    {
     "name": "stdout",
     "output_type": "stream",
     "text": [
      "====================Merging JSON files====================\n",
      "#JSON files to scan: 2258\n",
      "========================================\n",
      "#files scanned: 500\n",
      "========================================\n",
      "#files scanned: 1000\n",
      "========================================\n",
      "#files scanned: 1500\n",
      "========================================\n",
      "#files scanned: 2000\n",
      "========================================\n",
      "Shape of the data: (2258, 61)\n"
     ]
    }
   ],
   "source": [
    "def extract_descriptions(descriptions):\n",
    "    \"\"\"Extract the descriptions from the descriptions column\"\"\"\n",
    "    desc = []\n",
    "    if descriptions:\n",
    "        desc = [descriptions[i]['value'] for i in range(len(descriptions))]\n",
    "    return desc\n",
    "\n",
    "def extract_refs(refs_list):\n",
    "    \"\"\"Extract the references from the references column\"\"\"\n",
    "    refs = []\n",
    "    if refs_list:\n",
    "        refs = [ref['url'] for ref in refs_list]\n",
    "    return refs\n",
    "\n",
    "def extract_cwe(problemTypes):\n",
    "    \"\"\"Extract the CWE IDs from the problemTypes column\"\"\"\n",
    "    cwes = [entry[\"cweId\"] for pt in problemTypes for entry in pt.get(\"descriptions\", []) if \"cweId\" in entry]\n",
    "    return cwes if cwes else [\"unknown\"]\n",
    "\n",
    "\n",
    "def extract_capec(capec):\n",
    "    \"\"\"Extract the CAPEC IDs from the capec column\"\"\"\n",
    "    capecs = []\n",
    "    if isinstance(capec, list):\n",
    "        capecs = [entry['capecId'] for entry in capec if 'capecId' in entry]\n",
    "    elif isinstance(capec, dict) and 'capecId' in capec:\n",
    "        capecs = [capec['capecId']]\n",
    "    return capecs\n",
    "\n",
    "def append_cve(df, df_json):\n",
    "    \"\"\"Fill the missing columns in the DataFrames\"\"\"\n",
    "    all_cols = list(\n",
    "        set(list(df.columns) + list(df_json.columns)))\n",
    "    # insert new columns with None values\n",
    "    for column in all_cols:\n",
    "        if column not in list(df.columns):\n",
    "            df[column] = None\n",
    "        if column not in list(df_json.columns):\n",
    "            df_json[column] = None\n",
    "\n",
    "    df = df.sort_index(axis=1)\n",
    "    df_json = df_json.sort_index(axis=1)\n",
    "\n",
    "    df = pd.concat([df, df_json], ignore_index=True, sort=False)\n",
    "    return df\n",
    "\n",
    "def extract_metrics(metrics):\n",
    "    \"\"\" Iterate through the list and extract nested items\n",
    "    \"\"\"\n",
    "    df = pd.DataFrame()\n",
    "    for item in metrics:\n",
    "        for parent_key, parent_value in item.items():\n",
    "            if isinstance(parent_value, dict):\n",
    "                parent_df = pd.DataFrame(parent_value, index=[0])\n",
    "                parent_df.columns = [f\"{parent_key}_{col}\" for col in parent_df.columns]\n",
    "                df = pd.concat([df, parent_df], axis=1)\n",
    "            else:\n",
    "                df[parent_key] = parent_value\n",
    "    return df\n",
    "\n",
    "def extract_cna(cvedict):\n",
    "    \"\"\"Extract the CNA data from the cvedict\"\"\"\n",
    "    df_cna = pd.json_normalize(cvedict['containers']['cna'])\n",
    "    # Apply transformations conditionally\n",
    "    transformations = [\n",
    "        ('references', extract_refs),\n",
    "        ('descriptions', extract_descriptions),\n",
    "        ('problemTypes', extract_cwe),\n",
    "        ('impacts', extract_capec),\n",
    "    ]\n",
    "\n",
    "    for col, func in transformations:\n",
    "        if col in df_cna.columns and df_cna[col].any():\n",
    "            df_cna[col] = df_cna[col].apply(func)\n",
    "        else:\n",
    "            df_cna[col] = None\n",
    "\n",
    "    # Handle metrics separately\n",
    "    if 'metrics' in df_cna.columns and df_cna['metrics'].any():\n",
    "        df_metrics = extract_metrics(df_cna['metrics'][0])\n",
    "        df_cna = pd.concat([df_cna, df_metrics], axis=1)\n",
    "\n",
    "    df_cna.columns = df_cna.columns.map(lambda x: x.replace('.', '_'))\n",
    "    return df_cna\n",
    "\n",
    "\n",
    "def json2df(json_file):\n",
    "    \"\"\"Convert JSON data to a pandas DataFrame\"\"\"\n",
    "    # Read JSON data from file\n",
    "    # print(f\"Processing: {json_file}\")\n",
    "    df_cve = pd.DataFrame()\n",
    "    if Path(json_file).is_file():\n",
    "        with open(json_file, \"r\") as f:\n",
    "            cvedict = json.load(f)\n",
    "        df_cna = pd.json_normalize(cvedict['containers']['cna'])\n",
    "        df_cna = extract_cna(cvedict)\n",
    "        df_meta = pd.json_normalize(cvedict['cveMetadata'])\n",
    "        # concatenate these two dataframes\n",
    "        df_cve = pd.concat([df_meta, df_cna], axis=1)\n",
    "    else:\n",
    "        print(f\"File not found: {json_file}\")\n",
    "    return pd.DataFrame(df_cve)\n",
    "\n",
    "\n",
    "def merge_json_files(json_files):\n",
    "    \"\"\"Merge all the JSON files into a single DataFrame\"\"\"\n",
    "    print(\"=\" * 20 + \"Merging JSON files\" + \"=\" * 20)\n",
    "    print(f\"#JSON files to scan: {len(json_files)}\")\n",
    "    print(\"=\" * 40)\n",
    "    df = pd.DataFrame()\n",
    "\n",
    "    for json_file in json_files:\n",
    "        df_json = json2df(json_file)\n",
    "        if len(df_cve) > 0 and \"cveId\" in list(df_json.columns):\n",
    "            if df.empty:\n",
    "                df = df_json\n",
    "            else:\n",
    "                df = append_cve(df, df_json)\n",
    "\n",
    "        if len(df) % 500 == 0:\n",
    "            print(f\"#files scanned: {len(df)}\")\n",
    "            print(f\"Shape of the data: {df.shape}\")\n",
    "            print(\"=\" * 40)\n",
    "\n",
    "    df = df.dropna(axis=1, how='all')\n",
    "    return df\n",
    "\n",
    "df_all = merge_json_files(list(patch_links.keys()))\n",
    "\n",
    "print(f'Shape of the data: {df_all.shape}')"
   ]
  },
  {
   "cell_type": "markdown",
   "metadata": {},
   "source": [
    "# Trying incremental approach"
   ]
  },
  {
   "cell_type": "code",
   "execution_count": 192,
   "metadata": {},
   "outputs": [
    {
     "name": "stdout",
     "output_type": "stream",
     "text": [
      "Cloning or pulling https://github.com/CVEProject/cvelistV5.git to /Users/guru/research/FixMe/data/cvelistV5\n",
      "Git pull successful\n",
      "No modified files found\n"
     ]
    },
    {
     "data": {
      "text/plain": [
       "[]"
      ]
     },
     "execution_count": 192,
     "metadata": {},
     "output_type": "execute_result"
    }
   ],
   "source": [
    "\n",
    "\n",
    "def clone_or_pull(repo_url, repo_path):\n",
    "    \"\"\"Clone the repository if it doesn't exist, or pull if it does.\"\"\"\n",
    "    modified_files = []\n",
    "    print(f\"Cloning or pulling {repo_url} to {repo_path}\")\n",
    "    if os.path.exists(repo_path):\n",
    "        # Repository exists, perform a git pull\n",
    "        try:\n",
    "            repo = git.Repo(repo_path)\n",
    "            origin = repo.remotes.origin\n",
    "            # Store the current commit before pulling\n",
    "            current_commit = repo.head.commit\n",
    "            origin.pull()\n",
    "            print(\"Git pull successful\")\n",
    "            # Compare current commit with the latest one after pull\n",
    "            for item in repo.head.commit.diff(current_commit):\n",
    "                modified_files.append(item.a_path)\n",
    "        except git.exc.GitCommandError as e:\n",
    "            print(\"Error occurred during git pull:\", e)\n",
    "    else:\n",
    "        # Repository doesn't exist, perform a git clone\n",
    "        try:\n",
    "            git.Repo.clone_from(repo_url, repo_path)\n",
    "            print(\"Git clone successful\")\n",
    "        except git.exc.GitCommandError as e:\n",
    "            print(\"Error occurred during git clone:\", e)\n",
    "    return modified_files\n",
    "\n",
    "\n",
    "def get_modified_cve_files(modified_files, data_dir):\n",
    "    \"\"\"Find the modified CVE JSON files after a git pull\"\"\"\n",
    "    if modified_files:\n",
    "        print(f\"Modified files after git pull: {modified_files}\")\n",
    "        modified_cve_files = [Path(data_dir, 'cvelistV5', file) for file in modified_files if file.endswith(\".json\") and \"CVE\" in file]\n",
    "        print(\"Modified files related to CVE:\", modified_cve_files)\n",
    "    else:\n",
    "        print(\"No modified files found\")\n",
    "        modified_cve_files = []\n",
    "    return modified_cve_files\n",
    "\n",
    "\n",
    "repo_url = \"https://github.com/CVEProject/cvelistV5.git\"\n",
    "data_dir = \"/Users/guru/research/FixMe/data/\"\n",
    "cve_repo_path = data_dir + Path(repo_url).stem\n",
    "\n",
    "# Call the clone_or_pull function with the repository URL and path\n",
    "modified_files = clone_or_pull(repo_url, cve_repo_path)\n",
    "\n",
    "modified_cve_files = get_modified_cve_files(modified_files, data_dir)\n",
    "modified_cve_files"
   ]
  },
  {
   "cell_type": "code",
   "execution_count": 193,
   "metadata": {},
   "outputs": [
    {
     "name": "stdout",
     "output_type": "stream",
     "text": [
      "Total JSON files: 25843\n",
      "Total reference files: 2258\n",
      "\n",
      "Total CVEs: 25843\n",
      "Total CVEs with references: 2258\n"
     ]
    }
   ],
   "source": [
    "from pathlib import Path\n",
    "\n",
    "ref_files = list(patch_links.keys())\n",
    "\n",
    "if json_files and ref_files:\n",
    "    print(f\"Total JSON files: {len(json_files)}\")\n",
    "    print(f\"Total reference files: {len(ref_files)}\\n\")\n",
    "    total_cves = [Path(x).stem for x in json_files]\n",
    "    total_cves = [file for file in total_cves if file.startswith(\"CVE-\")]\n",
    "    print(f\"Total CVEs: {len(total_cves)}\")\n",
    "    ref_cves = [Path(x).stem for x in ref_files]\n",
    "    ref_cves = [file for file in ref_cves if file.startswith(\"CVE-\")]\n",
    "    print(f\"Total CVEs with references: {len(cves)}\")\n",
    "else:\n",
    "    print(\"No JSON file found in the directory.\")"
   ]
  },
  {
   "cell_type": "markdown",
   "metadata": {},
   "source": [
    "# Plotting of original CVEs and FixMe included CVEs counts"
   ]
  },
  {
   "cell_type": "code",
   "execution_count": 194,
   "metadata": {},
   "outputs": [
    {
     "data": {
      "image/png": "[encoded data removed]",
      "text/plain": [
       "<Figure size 640x480 with 1 Axes>"
      ]
     },
     "metadata": {},
     "output_type": "display_data"
    }
   ],
   "source": [
    "years_cve_total = [file.split('-')[1] for file in total_cves]\n",
    "years_cve_ref = [file.split('-')[1] for file in ref_cves]\n",
    "\n",
    "freq_total = pd.Series(years_cve_total).value_counts().sort_index()\n",
    "freq_ref = pd.Series(years_cve_ref).value_counts().sort_index()\n",
    "\n",
    "fig, ax = plt.subplots()\n",
    "bar_width = 0.6\n",
    "index = range(len(freq_total))\n",
    "\n",
    "bar1 = ax.bar(index, freq_total, bar_width, label='#CVEs in total')\n",
    "bar2 = ax.bar(index, freq_ref, bar_width, label='#CVEs included in FixMe', bottom=freq_total.values)\n",
    "\n",
    "# Adding labels, title, and legend\n",
    "ax.set_xlabel('Year')\n",
    "ax.set_ylabel('#CVEs')\n",
    "ax.set_xticks(index)\n",
    "ax.set_xticklabels(freq.index, rotation=90)\n",
    "ax.legend()\n",
    "\n",
    "plt.show()"
   ]
  },
  {
   "cell_type": "code",
   "execution_count": 170,
   "metadata": {},
   "outputs": [
    {
     "data": {
      "image/png": "[encoded data removed]",
      "text/plain": [
       "<Figure size 500x400 with 1 Axes>"
      ]
     },
     "metadata": {},
     "output_type": "display_data"
    }
   ],
   "source": [
    "import pandas as pd\n",
    "import seaborn as sns\n",
    "import matplotlib.pyplot as plt\n",
    "\n",
    "freq_total = pd.Series(years_cve_total).value_counts().sort_index()\n",
    "df = pd.DataFrame({'year': freq_total.index.astype(int), 'count': freq_total.values.astype(int)})\n",
    "df['count2'] = freq_ref.values.astype(int)\n",
    "\n",
    "df.index = df['year']\n",
    "df.rename(columns={'count': '#CVEs in total', 'count2': '#CVEs included in FixMe'}, inplace=True)\n",
    "\n",
    "plt.figure(figsize=(5, 4))\n",
    "\n",
    "for column in df.columns:\n",
    "    if column != 'year':\n",
    "        sns.lineplot(x=df.index, y=df[column], marker='+', linestyle='-', label=column)\n",
    "        # sns.barplot(x=df.index, y=df[column], alpha=0.2, label=column)\n",
    "        sns.regplot(x=df.index, y=df[column], scatter=True)\n",
    "\n",
    "plt.xlabel('Year', fontsize=12)\n",
    "plt.ylabel('#CVEs', fontsize=12)\n",
    "# plt.title('Trend of CVEs Each Year')\n",
    "plt.xticks(df.year, rotation=90)  \n",
    "plt.xlim(1999, 2023)  \n",
    "plt.grid() \n",
    "plt.legend(loc='upper left', fontsize=10)  \n",
    "plt.show()"
   ]
  },
  {
   "cell_type": "markdown",
   "metadata": {},
   "source": [
    "# Semantic scholar API to search research papers/datasets"
   ]
  },
  {
   "cell_type": "code",
   "execution_count": null,
   "metadata": {},
   "outputs": [],
   "source": [
    "import requests\n",
    "\n",
    "api_key = \"ATTZX7wvDw8aQ2A3Xmjff8sS0O0UMhqk8Zn3jxCS\"\n",
    "\n",
    "\n",
    "# Define the API endpoint URL\n",
    "url = 'https://api.semanticscholar.org/graph/v1/paper/search'\n",
    "\n",
    "# More specific query parameter\n",
    "query_params = {'query': 'Measurement of Power for DOS attacks', 'limit': 5}\n",
    "\n",
    "# Define headers with API key\n",
    "headers = {'x-api-key': api_key}\n",
    "\n",
    "# Send the API request\n",
    "response = requests.get(url, params=query_params, headers=headers)\n",
    "\n",
    "# Check response status\n",
    "if response.status_code == 200:\n",
    "   response_data = response.json()\n",
    "   # Process and print the response data as needed\n",
    "   print(response_data)\n",
    "else:\n",
    "   print(f\"Request failed with status code {response.status_code}: {response.text}\")\n",
    "response_data"
   ]
  }
 ],
 "metadata": {
  "kernelspec": {
   "display_name": "fixme",
   "language": "python",
   "name": "python3"
  },
  "language_info": {
   "codemirror_mode": {
    "name": "ipython",
    "version": 3
   },
   "file_extension": ".py",
   "mimetype": "text/x-python",
   "name": "python",
   "nbconvert_exporter": "python",
   "pygments_lexer": "ipython3",
   "version": "3.10.0"
  }
 },
 "nbformat": 4,
 "nbformat_minor": 2
}
